{
  "nbformat": 4,
  "nbformat_minor": 0,
  "metadata": {
    "colab": {
      "name": "BootcampMódulo1.ipynb",
      "provenance": [],
      "collapsed_sections": [],
      "toc_visible": true,
      "include_colab_link": true
    },
    "kernelspec": {
      "name": "python3",
      "display_name": "Python 3"
    }
  },
  "cells": [
    {
      "cell_type": "markdown",
      "metadata": {
        "id": "view-in-github",
        "colab_type": "text"
      },
      "source": [
        "<a href=\"https://colab.research.google.com/github/GabrielMedeiros32/Bootcamp_Data_Science/blob/main/M%C3%B3dulo%201/BootcampM%C3%B3dulo1.ipynb\" target=\"_parent\"><img src=\"https://colab.research.google.com/assets/colab-badge.svg\" alt=\"Open In Colab\"/></a>"
      ]
    },
    {
      "cell_type": "markdown",
      "metadata": {
        "id": "m3cnZxDXJUVL"
      },
      "source": [
        "#Módulo 1"
      ]
    },
    {
      "cell_type": "markdown",
      "metadata": {
        "id": "rfLRO0x0JJu4"
      },
      "source": [
        "##Aula 1"
      ]
    },
    {
      "cell_type": "markdown",
      "metadata": {
        "id": "wy_ncUgeYjfh"
      },
      "source": [
        "Caderno de exploracao dos dados do datasus 2008 pra frente"
      ]
    },
    {
      "cell_type": "code",
      "metadata": {
        "id": "87K9ISVVY1bn"
      },
      "source": [
        "import pandas as pd"
      ],
      "execution_count": null,
      "outputs": []
    },
    {
      "cell_type": "code",
      "metadata": {
        "id": "aUnyypSZZNII",
        "colab": {
          "base_uri": "https://localhost:8080/",
          "height": 411
        },
        "outputId": "9cc6abbd-7c0b-4c36-9061-49584f1b83b8"
      },
      "source": [
        "dados = pd.read_csv(\"dados/A160324189_28_143_208.csv\", encoding=\"ISO-8859-1\", \n",
        "                    skiprows = 3, sep=\";\", skipfooter=12, thousands=\".\", decimal=\",\")\n",
        "dados.head()"
      ],
      "execution_count": null,
      "outputs": [
        {
          "output_type": "stream",
          "text": [
            "/usr/local/lib/python3.7/dist-packages/ipykernel_launcher.py:2: ParserWarning: Falling back to the 'python' engine because the 'c' engine does not support skipfooter; you can avoid this warning by specifying engine='python'.\n",
            "  \n"
          ],
          "name": "stderr"
        },
        {
          "output_type": "error",
          "ename": "FileNotFoundError",
          "evalue": "ignored",
          "traceback": [
            "\u001b[0;31m---------------------------------------------------------------------------\u001b[0m",
            "\u001b[0;31mFileNotFoundError\u001b[0m                         Traceback (most recent call last)",
            "\u001b[0;32m<ipython-input-912-17534f985942>\u001b[0m in \u001b[0;36m<module>\u001b[0;34m()\u001b[0m\n\u001b[1;32m      1\u001b[0m dados = pd.read_csv(\"dados/A160324189_28_143_208.csv\", encoding=\"ISO-8859-1\", \n\u001b[0;32m----> 2\u001b[0;31m                     skiprows = 3, sep=\";\", skipfooter=12, thousands=\".\", decimal=\",\")\n\u001b[0m\u001b[1;32m      3\u001b[0m \u001b[0mdados\u001b[0m\u001b[0;34m.\u001b[0m\u001b[0mhead\u001b[0m\u001b[0;34m(\u001b[0m\u001b[0;34m)\u001b[0m\u001b[0;34m\u001b[0m\u001b[0;34m\u001b[0m\u001b[0m\n",
            "\u001b[0;32m/usr/local/lib/python3.7/dist-packages/pandas/io/parsers.py\u001b[0m in \u001b[0;36mread_csv\u001b[0;34m(filepath_or_buffer, sep, delimiter, header, names, index_col, usecols, squeeze, prefix, mangle_dupe_cols, dtype, engine, converters, true_values, false_values, skipinitialspace, skiprows, skipfooter, nrows, na_values, keep_default_na, na_filter, verbose, skip_blank_lines, parse_dates, infer_datetime_format, keep_date_col, date_parser, dayfirst, cache_dates, iterator, chunksize, compression, thousands, decimal, lineterminator, quotechar, quoting, doublequote, escapechar, comment, encoding, dialect, error_bad_lines, warn_bad_lines, delim_whitespace, low_memory, memory_map, float_precision)\u001b[0m\n\u001b[1;32m    686\u001b[0m     )\n\u001b[1;32m    687\u001b[0m \u001b[0;34m\u001b[0m\u001b[0m\n\u001b[0;32m--> 688\u001b[0;31m     \u001b[0;32mreturn\u001b[0m \u001b[0m_read\u001b[0m\u001b[0;34m(\u001b[0m\u001b[0mfilepath_or_buffer\u001b[0m\u001b[0;34m,\u001b[0m \u001b[0mkwds\u001b[0m\u001b[0;34m)\u001b[0m\u001b[0;34m\u001b[0m\u001b[0;34m\u001b[0m\u001b[0m\n\u001b[0m\u001b[1;32m    689\u001b[0m \u001b[0;34m\u001b[0m\u001b[0m\n\u001b[1;32m    690\u001b[0m \u001b[0;34m\u001b[0m\u001b[0m\n",
            "\u001b[0;32m/usr/local/lib/python3.7/dist-packages/pandas/io/parsers.py\u001b[0m in \u001b[0;36m_read\u001b[0;34m(filepath_or_buffer, kwds)\u001b[0m\n\u001b[1;32m    452\u001b[0m \u001b[0;34m\u001b[0m\u001b[0m\n\u001b[1;32m    453\u001b[0m     \u001b[0;31m# Create the parser.\u001b[0m\u001b[0;34m\u001b[0m\u001b[0;34m\u001b[0m\u001b[0;34m\u001b[0m\u001b[0m\n\u001b[0;32m--> 454\u001b[0;31m     \u001b[0mparser\u001b[0m \u001b[0;34m=\u001b[0m \u001b[0mTextFileReader\u001b[0m\u001b[0;34m(\u001b[0m\u001b[0mfp_or_buf\u001b[0m\u001b[0;34m,\u001b[0m \u001b[0;34m**\u001b[0m\u001b[0mkwds\u001b[0m\u001b[0;34m)\u001b[0m\u001b[0;34m\u001b[0m\u001b[0;34m\u001b[0m\u001b[0m\n\u001b[0m\u001b[1;32m    455\u001b[0m \u001b[0;34m\u001b[0m\u001b[0m\n\u001b[1;32m    456\u001b[0m     \u001b[0;32mif\u001b[0m \u001b[0mchunksize\u001b[0m \u001b[0;32mor\u001b[0m \u001b[0miterator\u001b[0m\u001b[0;34m:\u001b[0m\u001b[0;34m\u001b[0m\u001b[0;34m\u001b[0m\u001b[0m\n",
            "\u001b[0;32m/usr/local/lib/python3.7/dist-packages/pandas/io/parsers.py\u001b[0m in \u001b[0;36m__init__\u001b[0;34m(self, f, engine, **kwds)\u001b[0m\n\u001b[1;32m    946\u001b[0m             \u001b[0mself\u001b[0m\u001b[0;34m.\u001b[0m\u001b[0moptions\u001b[0m\u001b[0;34m[\u001b[0m\u001b[0;34m\"has_index_names\"\u001b[0m\u001b[0;34m]\u001b[0m \u001b[0;34m=\u001b[0m \u001b[0mkwds\u001b[0m\u001b[0;34m[\u001b[0m\u001b[0;34m\"has_index_names\"\u001b[0m\u001b[0;34m]\u001b[0m\u001b[0;34m\u001b[0m\u001b[0;34m\u001b[0m\u001b[0m\n\u001b[1;32m    947\u001b[0m \u001b[0;34m\u001b[0m\u001b[0m\n\u001b[0;32m--> 948\u001b[0;31m         \u001b[0mself\u001b[0m\u001b[0;34m.\u001b[0m\u001b[0m_make_engine\u001b[0m\u001b[0;34m(\u001b[0m\u001b[0mself\u001b[0m\u001b[0;34m.\u001b[0m\u001b[0mengine\u001b[0m\u001b[0;34m)\u001b[0m\u001b[0;34m\u001b[0m\u001b[0;34m\u001b[0m\u001b[0m\n\u001b[0m\u001b[1;32m    949\u001b[0m \u001b[0;34m\u001b[0m\u001b[0m\n\u001b[1;32m    950\u001b[0m     \u001b[0;32mdef\u001b[0m \u001b[0mclose\u001b[0m\u001b[0;34m(\u001b[0m\u001b[0mself\u001b[0m\u001b[0;34m)\u001b[0m\u001b[0;34m:\u001b[0m\u001b[0;34m\u001b[0m\u001b[0;34m\u001b[0m\u001b[0m\n",
            "\u001b[0;32m/usr/local/lib/python3.7/dist-packages/pandas/io/parsers.py\u001b[0m in \u001b[0;36m_make_engine\u001b[0;34m(self, engine)\u001b[0m\n\u001b[1;32m   1189\u001b[0m                     \u001b[0;34m'are \"c\", \"python\", or \"python-fwf\")'\u001b[0m\u001b[0;34m\u001b[0m\u001b[0;34m\u001b[0m\u001b[0m\n\u001b[1;32m   1190\u001b[0m                 )\n\u001b[0;32m-> 1191\u001b[0;31m             \u001b[0mself\u001b[0m\u001b[0;34m.\u001b[0m\u001b[0m_engine\u001b[0m \u001b[0;34m=\u001b[0m \u001b[0mklass\u001b[0m\u001b[0;34m(\u001b[0m\u001b[0mself\u001b[0m\u001b[0;34m.\u001b[0m\u001b[0mf\u001b[0m\u001b[0;34m,\u001b[0m \u001b[0;34m**\u001b[0m\u001b[0mself\u001b[0m\u001b[0;34m.\u001b[0m\u001b[0moptions\u001b[0m\u001b[0;34m)\u001b[0m\u001b[0;34m\u001b[0m\u001b[0;34m\u001b[0m\u001b[0m\n\u001b[0m\u001b[1;32m   1192\u001b[0m \u001b[0;34m\u001b[0m\u001b[0m\n\u001b[1;32m   1193\u001b[0m     \u001b[0;32mdef\u001b[0m \u001b[0m_failover_to_python\u001b[0m\u001b[0;34m(\u001b[0m\u001b[0mself\u001b[0m\u001b[0;34m)\u001b[0m\u001b[0;34m:\u001b[0m\u001b[0;34m\u001b[0m\u001b[0;34m\u001b[0m\u001b[0m\n",
            "\u001b[0;32m/usr/local/lib/python3.7/dist-packages/pandas/io/parsers.py\u001b[0m in \u001b[0;36m__init__\u001b[0;34m(self, f, **kwds)\u001b[0m\n\u001b[1;32m   2387\u001b[0m             \u001b[0mencoding\u001b[0m\u001b[0;34m=\u001b[0m\u001b[0mself\u001b[0m\u001b[0;34m.\u001b[0m\u001b[0mencoding\u001b[0m\u001b[0;34m,\u001b[0m\u001b[0;34m\u001b[0m\u001b[0;34m\u001b[0m\u001b[0m\n\u001b[1;32m   2388\u001b[0m             \u001b[0mcompression\u001b[0m\u001b[0;34m=\u001b[0m\u001b[0mself\u001b[0m\u001b[0;34m.\u001b[0m\u001b[0mcompression\u001b[0m\u001b[0;34m,\u001b[0m\u001b[0;34m\u001b[0m\u001b[0;34m\u001b[0m\u001b[0m\n\u001b[0;32m-> 2389\u001b[0;31m             \u001b[0mmemory_map\u001b[0m\u001b[0;34m=\u001b[0m\u001b[0mself\u001b[0m\u001b[0;34m.\u001b[0m\u001b[0mmemory_map\u001b[0m\u001b[0;34m,\u001b[0m\u001b[0;34m\u001b[0m\u001b[0;34m\u001b[0m\u001b[0m\n\u001b[0m\u001b[1;32m   2390\u001b[0m         )\n\u001b[1;32m   2391\u001b[0m         \u001b[0mself\u001b[0m\u001b[0;34m.\u001b[0m\u001b[0mhandles\u001b[0m\u001b[0;34m.\u001b[0m\u001b[0mextend\u001b[0m\u001b[0;34m(\u001b[0m\u001b[0mhandles\u001b[0m\u001b[0;34m)\u001b[0m\u001b[0;34m\u001b[0m\u001b[0;34m\u001b[0m\u001b[0m\n",
            "\u001b[0;32m/usr/local/lib/python3.7/dist-packages/pandas/io/common.py\u001b[0m in \u001b[0;36mget_handle\u001b[0;34m(path_or_buf, mode, encoding, compression, memory_map, is_text, errors)\u001b[0m\n\u001b[1;32m    491\u001b[0m         \u001b[0;32mif\u001b[0m \u001b[0mencoding\u001b[0m\u001b[0;34m:\u001b[0m\u001b[0;34m\u001b[0m\u001b[0;34m\u001b[0m\u001b[0m\n\u001b[1;32m    492\u001b[0m             \u001b[0;31m# Encoding\u001b[0m\u001b[0;34m\u001b[0m\u001b[0;34m\u001b[0m\u001b[0;34m\u001b[0m\u001b[0m\n\u001b[0;32m--> 493\u001b[0;31m             \u001b[0mf\u001b[0m \u001b[0;34m=\u001b[0m \u001b[0mopen\u001b[0m\u001b[0;34m(\u001b[0m\u001b[0mpath_or_buf\u001b[0m\u001b[0;34m,\u001b[0m \u001b[0mmode\u001b[0m\u001b[0;34m,\u001b[0m \u001b[0mencoding\u001b[0m\u001b[0;34m=\u001b[0m\u001b[0mencoding\u001b[0m\u001b[0;34m,\u001b[0m \u001b[0merrors\u001b[0m\u001b[0;34m=\u001b[0m\u001b[0merrors\u001b[0m\u001b[0;34m,\u001b[0m \u001b[0mnewline\u001b[0m\u001b[0;34m=\u001b[0m\u001b[0;34m\"\"\u001b[0m\u001b[0;34m)\u001b[0m\u001b[0;34m\u001b[0m\u001b[0;34m\u001b[0m\u001b[0m\n\u001b[0m\u001b[1;32m    494\u001b[0m         \u001b[0;32melif\u001b[0m \u001b[0mis_text\u001b[0m\u001b[0;34m:\u001b[0m\u001b[0;34m\u001b[0m\u001b[0;34m\u001b[0m\u001b[0m\n\u001b[1;32m    495\u001b[0m             \u001b[0;31m# No explicit encoding\u001b[0m\u001b[0;34m\u001b[0m\u001b[0;34m\u001b[0m\u001b[0;34m\u001b[0m\u001b[0m\n",
            "\u001b[0;31mFileNotFoundError\u001b[0m: [Errno 2] No such file or directory: 'dados/A160324189_28_143_208.csv'"
          ]
        }
      ]
    },
    {
      "cell_type": "code",
      "metadata": {
        "id": "W76fpjKRZW2J"
      },
      "source": [
        "dados.tail()"
      ],
      "execution_count": null,
      "outputs": []
    },
    {
      "cell_type": "code",
      "metadata": {
        "id": "9IzpuzIuaSYY"
      },
      "source": [
        "dados.mean()"
      ],
      "execution_count": null,
      "outputs": []
    },
    {
      "cell_type": "code",
      "metadata": {
        "id": "6z24CxRLad5G"
      },
      "source": [
        "dados.info()"
      ],
      "execution_count": null,
      "outputs": []
    },
    {
      "cell_type": "code",
      "metadata": {
        "id": "eAHqt0m1arVe"
      },
      "source": [
        "pd.options.display.float_format = \"{:.2f}\".format"
      ],
      "execution_count": null,
      "outputs": []
    },
    {
      "cell_type": "code",
      "metadata": {
        "id": "ceT00eDNbLOk"
      },
      "source": [
        "dados.mean()"
      ],
      "execution_count": null,
      "outputs": []
    },
    {
      "cell_type": "code",
      "metadata": {
        "id": "kO_bBab-bMDn"
      },
      "source": [
        "dados[\"2008/Ago\"]"
      ],
      "execution_count": null,
      "outputs": []
    },
    {
      "cell_type": "code",
      "metadata": {
        "id": "F1EZW87Kc_ot"
      },
      "source": [
        "dados[\"2008/Ago\"].mean()"
      ],
      "execution_count": null,
      "outputs": []
    },
    {
      "cell_type": "code",
      "metadata": {
        "id": "oPrpTcF6dKZ2"
      },
      "source": [
        "dados.plot(x=\"Unidade da Federação\", y=\"2008/Ago\")"
      ],
      "execution_count": null,
      "outputs": []
    },
    {
      "cell_type": "code",
      "metadata": {
        "id": "nepmpDhedsW3"
      },
      "source": [
        "dados.plot(x=\"Unidade da Federação\", y=\"2008/Ago\", kind=\"bar\", figsize=(9,6))"
      ],
      "execution_count": null,
      "outputs": []
    },
    {
      "cell_type": "code",
      "metadata": {
        "id": "aJ9A3GCteSQg"
      },
      "source": [
        "import matplotlib.pyplot as plt\n",
        "import matplotlib.ticker as ticker\n",
        "\n",
        "ax = dados.plot(x=\"Unidade da Federação\", y=\"2008/Ago\", kind=\"bar\", figsize=(9,6))\n",
        "ax.yaxis.set_major_formatter(ticker.StrMethodFormatter(\"{x:,.2f}\"))\n",
        "\n",
        "plt.title(\"Valor por unidade da federação\")\n",
        "plt.show()"
      ],
      "execution_count": null,
      "outputs": []
    },
    {
      "cell_type": "markdown",
      "metadata": {
        "id": "OQwSkiiEJ9kF"
      },
      "source": [
        "###Desafios"
      ]
    },
    {
      "cell_type": "markdown",
      "metadata": {
        "id": "sRGgrTCkgUQG"
      },
      "source": [
        "**Desafio: escolher um título mais descritivo, que passe a  mensagem adequada.**"
      ]
    },
    {
      "cell_type": "code",
      "metadata": {
        "id": "6xYWWmtzKFnu"
      },
      "source": [
        "import matplotlib.pyplot as plt\n",
        "import matplotlib.ticker as ticker\n",
        "\n",
        "ax = dados.plot(x=\"Unidade da Federação\", y=\"2020/Jul\", kind=\"bar\", figsize=(9,6))\n",
        "ax.yaxis.set_major_formatter(ticker.StrMethodFormatter(\"{x:,.2f}\"))\n",
        "\n",
        "plt.title(\"Gasto Mensal por estado\")\n",
        "plt.show()"
      ],
      "execution_count": null,
      "outputs": []
    },
    {
      "cell_type": "markdown",
      "metadata": {
        "id": "tlQj0zXQglDc"
      },
      "source": [
        "**Desafio: faça a mesma análise pro mês mais recente.**"
      ]
    },
    {
      "cell_type": "code",
      "metadata": {
        "id": "XhCFO9tnKRD7"
      },
      "source": [
        "import matplotlib.pyplot as plt\n",
        "import matplotlib.ticker as ticker\n",
        "\n",
        "ax = dados.plot(x=\"Unidade da Federação\", y=\"2009/Jul\", kind=\"bar\", figsize=(9,6))\n",
        "ax.yaxis.set_major_formatter(ticker.StrMethodFormatter(\"{x:,.2f}\"))\n",
        "\n",
        "plt.title(\"Gasto Mensal por estado\")\n",
        "plt.show()"
      ],
      "execution_count": null,
      "outputs": []
    },
    {
      "cell_type": "markdown",
      "metadata": {
        "id": "q41RC3aPJdd2"
      },
      "source": [
        "## Aula 2"
      ]
    },
    {
      "cell_type": "code",
      "metadata": {
        "id": "yj-Apzvje74A"
      },
      "source": [
        "dados[[\"2008/Ago\", \"2008/Set\"]].head()"
      ],
      "execution_count": null,
      "outputs": []
    },
    {
      "cell_type": "code",
      "metadata": {
        "id": "-sosIkIzjMFo"
      },
      "source": [
        "dados.mean()"
      ],
      "execution_count": null,
      "outputs": []
    },
    {
      "cell_type": "code",
      "metadata": {
        "id": "XgXSf2cdkFnx"
      },
      "source": [
        "colunas_usaveis = dados.mean().index.tolist()\n",
        "colunas_usaveis.insert(0, \"Unidade da Federação\")\n",
        "colunas_usaveis"
      ],
      "execution_count": null,
      "outputs": []
    },
    {
      "cell_type": "code",
      "metadata": {
        "id": "AHXrWCP5kS-W"
      },
      "source": [
        "usaveis = dados[colunas_usaveis]\n",
        "usaveis.head()"
      ],
      "execution_count": null,
      "outputs": []
    },
    {
      "cell_type": "code",
      "metadata": {
        "id": "u_CRNwbfkZO-"
      },
      "source": [
        "usaveis = usaveis.set_index(\"Unidade da Federação\")\n",
        "usaveis"
      ],
      "execution_count": null,
      "outputs": []
    },
    {
      "cell_type": "code",
      "metadata": {
        "id": "ob381_D3lP03"
      },
      "source": [
        "usaveis[\"2019/Ago\"].head()"
      ],
      "execution_count": null,
      "outputs": []
    },
    {
      "cell_type": "code",
      "metadata": {
        "id": "2utLBCvslT7G"
      },
      "source": [
        "usaveis.loc[\"12 Acre\"]"
      ],
      "execution_count": null,
      "outputs": []
    },
    {
      "cell_type": "code",
      "metadata": {
        "id": "IxPYJZkJlYLv"
      },
      "source": [
        "usaveis.plot(figsize=(12,6))"
      ],
      "execution_count": null,
      "outputs": []
    },
    {
      "cell_type": "code",
      "metadata": {
        "id": "DnjvQioGlh6W"
      },
      "source": [
        "usaveis.T.head()"
      ],
      "execution_count": null,
      "outputs": []
    },
    {
      "cell_type": "code",
      "metadata": {
        "id": "xiAqC3Kal3QL"
      },
      "source": [
        "usaveis.T.tail()"
      ],
      "execution_count": null,
      "outputs": []
    },
    {
      "cell_type": "code",
      "metadata": {
        "id": "i8SoYXktlqiP"
      },
      "source": [
        "usaveis.T.plot(figsize=(10,6))"
      ],
      "execution_count": null,
      "outputs": []
    },
    {
      "cell_type": "code",
      "metadata": {
        "id": "60ncKDAFlwMg"
      },
      "source": [
        "usaveis = usaveis.drop(\"Total\", axis=1)\n",
        "usaveis.head()"
      ],
      "execution_count": null,
      "outputs": []
    },
    {
      "cell_type": "code",
      "metadata": {
        "id": "1sdKdQNLl7AY"
      },
      "source": [
        "usaveis.T.plot(figsize=(10,6))"
      ],
      "execution_count": null,
      "outputs": []
    },
    {
      "cell_type": "markdown",
      "metadata": {
        "id": "1qOVDPNQKZ3w"
      },
      "source": [
        "###Desafios"
      ]
    },
    {
      "cell_type": "markdown",
      "metadata": {
        "id": "nTJo783FmPda"
      },
      "source": [
        "**Desafio: reposicionar a legenda. Dentro? Fora? Onde?**"
      ]
    },
    {
      "cell_type": "code",
      "metadata": {
        "id": "TcfeqL3UKhE9"
      },
      "source": [
        "# https://matplotlib.org/stable/api/_as_gen/matplotlib.pyplot.legend.html\n",
        "usaveis_chart = usaveis.T.plot(figsize=(12,7.5),xlabel=\"Ano/Mês\",ylabel=\"R$\")\n",
        "usaveis_chart.legend(title=\"Legenda\",loc='center left',bbox_to_anchor=(1.0, 0.5))\n",
        "usaveis_chart.yaxis.set_major_formatter(ticker.StrMethodFormatter(\"{x:,.2f}\"))\n",
        "\n",
        "plt.title(\"Valor total mensal por Unidade da Federação\")\n",
        "plt.show()"
      ],
      "execution_count": null,
      "outputs": []
    },
    {
      "cell_type": "markdown",
      "metadata": {
        "id": "5JWcg20gr399"
      },
      "source": [
        "**Desafio: Plotar o gráfico de linha com apenas 5 estados de sua preferência**"
      ]
    },
    {
      "cell_type": "code",
      "metadata": {
        "id": "OFHMAt-mKnlu"
      },
      "source": [
        "#cinco_meses = usaveis.loc[[\"19\",\"18\",\"20\",\"1\",\"26\"]]\n",
        "estados_selecionados = [\"35 São Paulo\",\"33 Rio de Janeiro\",\"41 Paraná\",\"12 Acre\",\"53 Distrito Federal\"]\n",
        "cinco_meses = usaveis.T.loc[:,estados_selecionados]\n",
        "cinco_meses_chart = cinco_meses.plot(figsize=(12,7.5),xlabel=\"Ano/Mês\",ylabel=\"R$\")\n",
        "cinco_meses_chart.legend(title=\"Estados\", loc='center left', bbox_to_anchor=(1.0, 0.5))\n",
        "cinco_meses_chart.yaxis.set_major_formatter(ticker.StrMethodFormatter(\"{x:,.2f}\"))\n",
        "\n",
        "plt.title(\"Valor mensal por Unidade da Federação\")\n",
        "plt.show()"
      ],
      "execution_count": null,
      "outputs": []
    },
    {
      "cell_type": "markdown",
      "metadata": {
        "id": "F-BE8VMeJ1Lv"
      },
      "source": [
        "##Aula 3"
      ]
    },
    {
      "cell_type": "code",
      "metadata": {
        "id": "ux0qG3bMtGaW"
      },
      "source": [
        "usaveis.head()"
      ],
      "execution_count": null,
      "outputs": []
    },
    {
      "cell_type": "code",
      "metadata": {
        "id": "aojbqgyEmFUP"
      },
      "source": [
        "usaveis.T.columns"
      ],
      "execution_count": null,
      "outputs": []
    },
    {
      "cell_type": "code",
      "metadata": {
        "id": "DgCfrqQYsWou"
      },
      "source": [
        "usaveis.T.columns[:5]"
      ],
      "execution_count": null,
      "outputs": []
    },
    {
      "cell_type": "code",
      "metadata": {
        "id": "8Jl_3JNCsqnA"
      },
      "source": [
        "usaveis.index[:5]"
      ],
      "execution_count": null,
      "outputs": []
    },
    {
      "cell_type": "code",
      "metadata": {
        "id": "XT5VhskPtVeI"
      },
      "source": [
        "usaveis[:5]"
      ],
      "execution_count": null,
      "outputs": []
    },
    {
      "cell_type": "code",
      "metadata": {
        "id": "vg_BQF4Zs34F"
      },
      "source": [
        "usaveis[:7].T.plot(figsize=(10,6))"
      ],
      "execution_count": null,
      "outputs": []
    },
    {
      "cell_type": "code",
      "metadata": {
        "id": "zHL54gWTtlJM"
      },
      "source": [
        "import numpy as np\n",
        "np.random.seed(687942)\n",
        "\n",
        "usaveis.sample(n=7)"
      ],
      "execution_count": null,
      "outputs": []
    },
    {
      "cell_type": "code",
      "metadata": {
        "id": "8-VEpaCyumL1"
      },
      "source": [
        "usaveis.sample(7)"
      ],
      "execution_count": null,
      "outputs": []
    },
    {
      "cell_type": "code",
      "metadata": {
        "id": "HSMLahftvLLl"
      },
      "source": [
        "usaveis[\"Total\"] = usaveis.sum(axis=1) # [0,1,2] [\"SP\"]\n",
        "usaveis.head()"
      ],
      "execution_count": null,
      "outputs": []
    },
    {
      "cell_type": "code",
      "metadata": {
        "id": "UXA11HfyMFYQ"
      },
      "source": [
        "ordenado_por_total = usaveis.sort_values(\"Total\", ascending=False) \n",
        "ordenado_por_total = ordenado_por_total.drop(\"Total\", axis=1)\n",
        "ordenado_por_total.head(3)"
      ],
      "execution_count": null,
      "outputs": []
    },
    {
      "cell_type": "code",
      "metadata": {
        "id": "RGOg7c1AL-oY"
      },
      "source": [
        "colunas_interessadas = ordenado_por_total.columns[6:]\n",
        "ordenado_por_total = ordenado_por_total[colunas_interessadas]\n",
        "\n",
        "ordenado_por_total.head(5).T.plot(figsize=(10,6))"
      ],
      "execution_count": null,
      "outputs": []
    },
    {
      "cell_type": "code",
      "metadata": {
        "id": "-0Ofu9BTu3uV"
      },
      "source": [
        "# ideia de como funciona aleatoriedade\n",
        "# pseudo randomness\n",
        "\n",
        "# seed = 6987\n",
        "# random = seed / 10, seed = seed * 2 /3\n",
        "\n",
        "\n",
        "# random ===> 698...... (seed=4658)\n",
        "# random ==> 465 (seed = 310)\n",
        "# random ==> 31\n"
      ],
      "execution_count": null,
      "outputs": []
    },
    {
      "cell_type": "code",
      "metadata": {
        "id": "_b5bAIJzvsjd"
      },
      "source": [
        "usaveis[\"Total\"] = usaveis.sum(axis=1) # [0,1,2] [\"SP\"]\n",
        "usaveis.head()"
      ],
      "execution_count": null,
      "outputs": []
    },
    {
      "cell_type": "code",
      "metadata": {
        "id": "MIWAh5QXvzT9"
      },
      "source": [
        "ordenado_por_total = usaveis.sort_values(\"Total\", ascending=False)\n",
        "ordenado_por_total = ordenado_por_total.drop(\"Total\", axis=1)\n",
        "ordenado_por_total.head()"
      ],
      "execution_count": null,
      "outputs": []
    },
    {
      "cell_type": "code",
      "metadata": {
        "id": "hKsKMVb1MdWw"
      },
      "source": [
        "ordenado_por_total = usaveis.sort_values(\"Total\", ascending=False) \n",
        "ordenado_por_total = ordenado_por_total.drop(\"Total\", axis=1)\n",
        "ordenado_por_total.head(2)"
      ],
      "execution_count": null,
      "outputs": []
    },
    {
      "cell_type": "code",
      "metadata": {
        "id": "uhW9GBJkxFST"
      },
      "source": [
        "colunas_interessadas = ordenado_por_total.columns[7:]\n",
        "ordenado_por_total = ordenado_por_total[colunas_interessadas]\n",
        "\n",
        "ordenado_por_total.head(5).T.plot(figsize=(10,6))"
      ],
      "execution_count": null,
      "outputs": []
    },
    {
      "cell_type": "markdown",
      "metadata": {
        "id": "vD43VlBHLKLW"
      },
      "source": [
        "###Desafios"
      ]
    },
    {
      "cell_type": "markdown",
      "metadata": {
        "id": "42d_F6_9LG59"
      },
      "source": [
        "**Desafio: Mudar a Paleta de Cores**"
      ]
    },
    {
      "cell_type": "code",
      "metadata": {
        "id": "VOl3FaQ5LYMs"
      },
      "source": [
        "# https://matplotlib.org/stable/tutorials/colors/colormaps.html\n",
        "cinco_meses_chart = cinco_meses.plot(figsize=(12,7.5),xlabel=\"Ano/Mês\",ylabel=\"R$\", cmap=plt.get_cmap('plasma_r'))\n",
        "cinco_meses_chart.legend(title=\"Estados\", loc='center left', bbox_to_anchor=(1.0, 0.5))\n",
        "cinco_meses_chart.yaxis.set_major_formatter(ticker.StrMethodFormatter(\"{x:,.2f}\"))\n",
        "\n",
        "plt.title(\"Valor mensal por Unidade da Federação\")\n",
        "plt.show()"
      ],
      "execution_count": null,
      "outputs": []
    },
    {
      "cell_type": "markdown",
      "metadata": {
        "id": "Mnf7vpEhvoi3"
      },
      "source": [
        "**Desafio: adicionar uma coluna mostrando a região de cada estado**"
      ]
    },
    {
      "cell_type": "code",
      "metadata": {
        "id": "vU2sJfsrNnPp"
      },
      "source": [
        "regions_map = {'1' : 'Norte',\n",
        "           '2' : 'Nordeste',\n",
        "           '3' : 'Sudeste',\n",
        "           '4' : 'Sul',\n",
        "           '5' : 'Centro-Oeste'}\n",
        "regions = [regions_map[idx[0]] for idx in usaveis.index]\n",
        "desafio_02 = usaveis.copy()\n",
        "desafio_02[\"Região\"] = regions\n",
        "desafio_02 = desafio_02[np.roll(desafio_02.columns,1)]\n",
        "#regions\n",
        "desafio_02"
      ],
      "execution_count": null,
      "outputs": []
    },
    {
      "cell_type": "markdown",
      "metadata": {
        "id": "jXfrNl9HxrlU"
      },
      "source": [
        "**Desafio: deixar o gráfico mais bonito. A mensagem mais clara.**"
      ]
    },
    {
      "cell_type": "code",
      "metadata": {
        "id": "eFKrUdVyRB7P"
      },
      "source": [
        "ax = ordenado_por_total[:5].T.plot(figsize=(10,6))\n",
        "ax.yaxis.set_major_formatter(ticker.StrMethodFormatter(\"{x:,.2f}\"))\n",
        "xlim_l = 0\n",
        "xlim_r = len(ordenado_por_total.columns) - 1\n",
        "# valor maximo entre todos os valores de todos os meses\n",
        "ylim_lower = ordenado_por_total[:5].min().min()*0.9\n",
        "ylim_upper = ordenado_por_total.max().max()*1.11\n",
        "plt.xlim(xlim_l, xlim_r)\n",
        "plt.ylim(ylim_lower, ylim_upper)\n",
        "plt.legend(loc='upper left', ncol=2)"
      ],
      "execution_count": null,
      "outputs": []
    },
    {
      "cell_type": "markdown",
      "metadata": {
        "id": "ftqarypJxxdw"
      },
      "source": [
        "**Desafio: adicione seu estado aos 5 estados existentes e plote**"
      ]
    },
    {
      "cell_type": "code",
      "metadata": {
        "id": "pseF48Tbxjy0"
      },
      "source": [
        "ordenado_por_total"
      ],
      "execution_count": null,
      "outputs": []
    },
    {
      "cell_type": "code",
      "metadata": {
        "id": "1ssbVXmOu3e9"
      },
      "source": [
        "estados_plot = ordenado_por_total[:5].index.tolist()\n",
        "estados_plot.append('23 Ceará')\n",
        "ax = ordenado_por_total.T[estados_plot].plot(figsize=(10,6))\n",
        "ax.yaxis.set_major_formatter(ticker.StrMethodFormatter(\"{x:,.2f}\"))\n",
        "xlim_l = 0\n",
        "xlim_r = len(ordenado_por_total.columns) - 1\n",
        "# valor maximo entre todos os valores de todos os meses\n",
        "ylim_lower = ordenado_por_total.min().min()*0.9\n",
        "ylim_upper = ordenado_por_total.max().max()*1.11\n",
        "plt.xlim(xlim_l, xlim_r)\n",
        "plt.ylim(ylim_lower, ylim_upper)\n",
        "plt.legend(loc='upper left', ncol=2)"
      ],
      "execution_count": null,
      "outputs": []
    },
    {
      "cell_type": "markdown",
      "metadata": {
        "id": "bt1098ux1Jf_"
      },
      "source": [
        "**Desafio: googlar os casos de dengue no Brasil e se reflete nos gastos**"
      ]
    },
    {
      "cell_type": "markdown",
      "metadata": {
        "id": "OL8FpmuxjYBe"
      },
      "source": [
        "Aqui vou fazer uso de uma reprodução da análise da Carolina Dias, colega de curso do bootcamp, pois fez uma análise sensacional dos dados:"
      ]
    },
    {
      "cell_type": "markdown",
      "metadata": {
        "id": "4WEy7DYej8x1"
      },
      "source": [
        "Começamos então por conseguir um conjunto de dados vindo do mesmo [DataSUS](http://tabnet.datasus.gov.br/cgi/deftohtm.exe?sih/cnv/qiuf.def) da análise inicial, desse conjunto conseguimos casos de dengue que dizem respeito à:"
      ]
    },
    {
      "cell_type": "markdown",
      "metadata": {
        "id": "eR3b0lMnlULA"
      },
      "source": [
        "* HISTOPATOLOGIA P/ IDENTIFICACAO DE DENGUE,\n",
        "* IMUNOHISTOQUIMICA P/ IDENTIFICACAO DO VÍRUS DA DENGUE,\n",
        "* TESTE RÁPIDO PARA DENGUE IGG/IGM,\n",
        "* TRATAMENTO DE DENGUE CLÁSSICA,\n",
        "* TRATAMENTO DE DENGUE HEMORRÁGICA.\n"
      ]
    },
    {
      "cell_type": "markdown",
      "metadata": {
        "id": "NmZYONXylkaz"
      },
      "source": [
        "Comparando esses dados ao dados de gasto podemos ver se eles tem alguma correlação."
      ]
    },
    {
      "cell_type": "code",
      "metadata": {
        "id": "SnHSiy8jmK1y"
      },
      "source": [
        "dados_dengue = pd.read_csv('dados/datasus_procedimentos_dengue.csv', sep = ';', encoding = 'ISO-8859-1', \n",
        "                               skiprows = 4, skipfooter = 12,  thousands = '.', decimal = ',', engine = 'python')\n",
        "dados_dengue.head()"
      ],
      "execution_count": null,
      "outputs": []
    },
    {
      "cell_type": "markdown",
      "metadata": {
        "id": "3_cdQ4HCoaL5"
      },
      "source": [
        "Como podemos ver, aqui temos um conjunto de dados que ainda precisa de limpeza assim como fizemos com os dados dos gastos para evitar as colunas que tem lacunas em branco trocando os hífens por zeros, além disso também desconsideramos os meses que não foram considerados como usáveis na análise de gastos para ter a mesma paridade com os dados analisados e por fim ajeitamos o indexador, logo:"
      ]
    },
    {
      "cell_type": "code",
      "metadata": {
        "id": "iQOrTMEmpjGU"
      },
      "source": [
        "dengue = dados_dengue.copy()\n",
        "dengue = dengue[colunas_usaveis]\n",
        "dengue = dengue.set_index('Unidade da Federação').rename_axis(None)\n",
        "dengue = dengue.replace('-', 0)\n",
        "dengue"
      ],
      "execution_count": null,
      "outputs": []
    },
    {
      "cell_type": "code",
      "metadata": {
        "id": "fJzGyhQzvS3c"
      },
      "source": [
        "dengue.info()"
      ],
      "execution_count": null,
      "outputs": []
    },
    {
      "cell_type": "markdown",
      "metadata": {
        "id": "kc3PvETgvQuU"
      },
      "source": [
        "Podemos ver na info que alguns dos dados são strings logo também devemos dar um jeito nisso:"
      ]
    },
    {
      "cell_type": "code",
      "metadata": {
        "id": "RtE1BIDLvbQP"
      },
      "source": [
        "dengue= dengue.apply(pd.to_numeric, errors = 'coerce')"
      ],
      "execution_count": null,
      "outputs": []
    },
    {
      "cell_type": "markdown",
      "metadata": {
        "id": "4IEFztUirhx4"
      },
      "source": [
        "Além disso, é válido adicionar uma coluna para as regiões, já que além de já disponibilizarmos da lista das regiões de mesma paridade, ajuda na hora de fazer a análise das mesmas."
      ]
    },
    {
      "cell_type": "code",
      "metadata": {
        "id": "_ULXWoAPrPR9"
      },
      "source": [
        "dengue.insert(0, 'Regiões', regions)\n",
        "dengue"
      ],
      "execution_count": null,
      "outputs": []
    },
    {
      "cell_type": "code",
      "metadata": {
        "id": "rVbNgdCfzDZy"
      },
      "source": [
        "usaveis"
      ],
      "execution_count": null,
      "outputs": []
    },
    {
      "cell_type": "code",
      "metadata": {
        "id": "hO7ZwTjKyBnA"
      },
      "source": [
        "usaveis.insert(0, 'Regiões', regions)\n",
        "usaveis[\"Total\"] = usaveis.sum(axis=1)\n",
        "usaveis"
      ],
      "execution_count": null,
      "outputs": []
    },
    {
      "cell_type": "markdown",
      "metadata": {
        "id": "DXo2e2IGsZxm"
      },
      "source": [
        "Basta então usar uma última checagem de dimensões dados dados:"
      ]
    },
    {
      "cell_type": "code",
      "metadata": {
        "id": "rrmvIRFCuS_m"
      },
      "source": [
        "dengue.shape == usaveis.shape"
      ],
      "execution_count": null,
      "outputs": []
    },
    {
      "cell_type": "markdown",
      "metadata": {
        "id": "4hzAT8rvuqoa"
      },
      "source": [
        "Podemos então fazer uso dos nossos dados:"
      ]
    },
    {
      "cell_type": "code",
      "metadata": {
        "id": "KFb68s5Guu3q"
      },
      "source": [
        "dengue.drop(['Total', 'Regiões'], axis = 1).sample(3).T.plot(figsize = (15, 10))"
      ],
      "execution_count": null,
      "outputs": []
    },
    {
      "cell_type": "markdown",
      "metadata": {
        "id": "FqXsn5Mqvw_a"
      },
      "source": [
        "Agora podemos montar dois gráficos, um para os casos de dengue e outro para os gastos, o estado escolhido foi o Rio de Janeiro apenas como teste."
      ]
    },
    {
      "cell_type": "code",
      "metadata": {
        "id": "VNu9UuRQ4PHd"
      },
      "source": [
        "dengue.drop(['Total', 'Regiões'], axis = 1).loc['33 Rio de Janeiro'].T.plot(color = 'deeppink', figsize = (20, 8))"
      ],
      "execution_count": null,
      "outputs": []
    },
    {
      "cell_type": "code",
      "metadata": {
        "id": "x0cMNkxrv7m8"
      },
      "source": [
        "fig, axes = plt.subplots(1, 2, sharex = False, sharey = False, figsize = (20, 8))\n",
        "\n",
        "plt.subplots_adjust(wspace = 0.3)\n",
        "\n",
        "dengue.drop(['Total', 'Regiões'], axis = 1).loc['33 Rio de Janeiro'].T[6:].plot(ax = axes[0], color = 'deeppink')\n",
        "\n",
        "xlim_l = -2\n",
        "xlim_r = len(dengue.columns) - 6\n",
        "ylim_lower = dengue.drop(['Regiões','Total'],axis=1)[7:-1].min().min()*0.9 -10\n",
        "ylim_upper = dengue.drop(['Regiões','Total'],axis=1)[7:-1].max().max()*1.11\n",
        "axes[0].set_title('Casos de Dengue - Rio de Janeiro', fontsize = 15)\n",
        "axes[0].set_xlabel('Período Ano/Mês', fontdict = {'fontsize': 12})\n",
        "axes[0].set_ylabel('Quantidade de Casos', fontdict = {'fontsize': 12})\n",
        "axes[0].set_xlim(xlim_l, xlim_r)\n",
        "axes[0].set_ylim(ylim_lower, ylim_upper)\n",
        "\n",
        "usaveis.drop(['Total', 'Regiões'], axis = 1).loc['33 Rio de Janeiro'].T[6:].plot(ax = axes[1], color = 'darkgreen')\n",
        "\n",
        "xlim_l2 = -2\n",
        "xlim_r2 = len(usaveis.columns) - 6\n",
        "ylim_lower2 = usaveis.loc['33 Rio de Janeiro'][7:-1].min()*0.9\n",
        "ylim_upper2 = usaveis.loc['33 Rio de Janeiro'][7:-1].max()*1.1\n",
        "axes[1].set_title('Gastos Hospitalares - Rio de Janeiro', fontsize = 15)\n",
        "axes[1].set_xlabel('Período  Ano/Mês', fontdict = {'fontsize': 12})\n",
        "axes[1].set_ylabel('Valores (R$)', fontdict = {'fontsize': 12})\n",
        "axes[1].yaxis.set_major_formatter(ticker.StrMethodFormatter('{x:,.2f}'))\n",
        "axes[1].set_xlim(xlim_l2, xlim_r2)\n",
        "axes[1].set_ylim(ylim_lower2, ylim_upper2)\n",
        "\n",
        "plt.show()"
      ],
      "execution_count": null,
      "outputs": []
    },
    {
      "cell_type": "markdown",
      "metadata": {
        "id": "XHsKIDHt8jNn"
      },
      "source": [
        "Dessa forma, para o mesmo estado do Rio de Janeiro temos o seguinte plot:"
      ]
    },
    {
      "cell_type": "code",
      "metadata": {
        "id": "I2GCbVPe8ow7"
      },
      "source": [
        "#https://matplotlib.org/stable/gallery/color/named_colors.html\n",
        "\n",
        "from matplotlib.lines import Line2D\n",
        "\n",
        "fig, axes = plt.subplots(figsize = (20, 10))\n",
        "\n",
        "plt.title('Casos de Dengue e Gastos Hospitalares no Rio de Janeiro de Fev/2008 a Mar/2021', fontdict = {'fontsize': 12, \"fontweight\":\"bold\"})\n",
        "\n",
        "usaveis.drop(['Total', 'Regiões'], axis = 1).loc['33 Rio de Janeiro'].T[6:].plot(color = 'r')\n",
        "axes.set_xlabel( 'Período Ano/Mês', fontdict = {'fontsize': 12})\n",
        "axes.set_ylabel('Valores (R$)', fontdict = {'fontsize': 12})\n",
        "\n",
        "axes2 = axes.twinx()\n",
        "dengue.drop(['Total', 'Regiões'], axis = 1).loc['33 Rio de Janeiro'].T[6:].plot(color = 'teal')\n",
        "axes2.set_ylabel('Quantidade de Casos de Dengue', fontdict = {'fontsize': 12})\n",
        "\n",
        "axes.yaxis.set_major_formatter(ticker.StrMethodFormatter('{x:,.2f}'))\n",
        "\n",
        "custom_lines = [Line2D([0], [0], color = 'aqua', lw = 2), Line2D([0], [0], color = 'r', lw = 2)]\n",
        "axes.legend(custom_lines, ['Gastos Hospitalares', 'Casos de Dengue'])\n",
        "\n",
        "# plt.grid(color = 'grey', linestyle = '-', linewidth = 0.3, axis = 'y', alpha = 0.8)\n",
        "\n",
        "# plt.savefig('dengue_gastos.jpg')\n",
        "\n",
        "plt.show()"
      ],
      "execution_count": null,
      "outputs": []
    },
    {
      "cell_type": "markdown",
      "metadata": {
        "id": "15CyfYt7ACxn"
      },
      "source": [
        "Podemos ver que fica difícil de indentificar a causalidade, pois alguns dos picos de gastos parecem acompanhar os casos de dengue, porém outros parecem que acontecem de maneira independente. Outra análise que podemos fazer é com a correlação com a ajuda de outro colega de bootcamp Renan Santos:"
      ]
    },
    {
      "cell_type": "code",
      "metadata": {
        "id": "w_kslcBg0yTp"
      },
      "source": [
        "atendimento_total_rio = usaveis.drop(['Regiões', 'Total'], axis = 1).loc['33 Rio de Janeiro'].values\n",
        "atendimento_total_rio"
      ],
      "execution_count": null,
      "outputs": []
    },
    {
      "cell_type": "code",
      "metadata": {
        "id": "ZXcyiK4n3BOg"
      },
      "source": [
        "casos_dengue_rio = dengue.drop(['Regiões', 'Total'], axis = 1).loc['33 Rio de Janeiro'].values\n",
        "casos_dengue_rio"
      ],
      "execution_count": null,
      "outputs": []
    },
    {
      "cell_type": "code",
      "metadata": {
        "id": "hDhYAfTh3Muv"
      },
      "source": [
        "np.corrcoef(casos_dengue_rio,atendimento_total_rio)[0,1]"
      ],
      "execution_count": null,
      "outputs": []
    },
    {
      "cell_type": "markdown",
      "metadata": {
        "id": "Jy8eEstx1qcp"
      },
      "source": [
        "E podemos fazer o mesmo por exemplo para a região sudeste:"
      ]
    },
    {
      "cell_type": "code",
      "metadata": {
        "id": "cBVGGHHlA3dt"
      },
      "source": [
        "atendimento_total_sudeste = usaveis[usaveis['Regiões'] == 'Sudeste'].drop(['Regiões', 'Total'], axis = 1).astype(float).sum().values\n",
        "atendimento_total_sudeste"
      ],
      "execution_count": null,
      "outputs": []
    },
    {
      "cell_type": "code",
      "metadata": {
        "id": "AjWKc6NgCBzE"
      },
      "source": [
        "casos_dengue_sudeste = dengue[dengue['Regiões'] == 'Sudeste'].drop(['Regiões', 'Total'], axis = 1).astype(int).sum().values\n",
        "casos_dengue_sudeste"
      ],
      "execution_count": null,
      "outputs": []
    },
    {
      "cell_type": "code",
      "metadata": {
        "id": "vrc4FGcECptD"
      },
      "source": [
        "np.corrcoef(casos_dengue_sudeste,atendimento_total_sudeste)[0,1]"
      ],
      "execution_count": null,
      "outputs": []
    },
    {
      "cell_type": "markdown",
      "metadata": {
        "id": "iFhF6Y_4Cw3M"
      },
      "source": [
        "Podemos ver que os dados também apresentam uma baixa correlação, logo podemos concluir que a dengue não tem grande relação com os gastos, não porque a dengue não gere maiores gastos, a magnitude desses gastos é mitigada devido ao sistema de saúde lidar com todos os tipos de casos e emergêcias além da dengue e, consequentemente, tendo outros gastos de mesmo tipo."
      ]
    },
    {
      "cell_type": "markdown",
      "metadata": {
        "id": "cvvXvh881NYO"
      },
      "source": [
        "**Desafio: plotar só os estados do sudeste e ver se afetou com um pico em 2012/2013 de forma similar esses estados**"
      ]
    },
    {
      "cell_type": "code",
      "metadata": {
        "id": "l4zos5Bd3Yh5"
      },
      "source": [
        "desafio_06 = desafio_02.query(\"Região in 'Sudeste'\").drop([\"Região\",\"Total\"], axis=1)\n",
        "desafio_06"
      ],
      "execution_count": null,
      "outputs": []
    },
    {
      "cell_type": "code",
      "metadata": {
        "id": "815ogF1_0j6K"
      },
      "source": [
        "desafio_06 = desafio_02.query(\"Região in 'Sudeste'\").drop([\"Região\",\"Total\"], axis=1)\n",
        "ax = desafio_06.T[6:].plot(figsize=(10,6))\n",
        "ax.yaxis.set_major_formatter(ticker.StrMethodFormatter(\"{x:,.2f}\"))\n",
        "xlim_l = 0\n",
        "xlim_r = len(desafio_06.columns) - 1\n",
        "# valor maximo entre todos os valores de todos os meses\n",
        "ylim_lower = desafio_06.min()[6:].min()*0.9\n",
        "ylim_upper = desafio_06.max()[6:].max()*1.11\n",
        "plt.xlim(xlim_l, xlim_r)\n",
        "plt.ylim(ylim_lower, ylim_upper)\n",
        "plt.legend(loc='upper left', ncol=2)"
      ],
      "execution_count": null,
      "outputs": []
    },
    {
      "cell_type": "markdown",
      "metadata": {
        "id": "CU8ZCgZK1hNI"
      },
      "source": [
        "**Desafio: adicionar seu estado escolhido novamente e deixe o gráfico informativo com suas informações claras**"
      ]
    },
    {
      "cell_type": "code",
      "metadata": {
        "id": "inZhbkSD6C4f"
      },
      "source": [
        "desafio_06 = desafio_02.query(\"Região in 'Sudeste'\").append(desafio_02.loc['16 Amapá']).drop([\"Região\",\"Total\"], axis=1)\n",
        "ax = desafio_06.T[6:].plot(figsize=(10,6))\n",
        "ax.yaxis.set_major_formatter(ticker.StrMethodFormatter(\"{x:,.2f}\"))\n",
        "xlim_l = 0\n",
        "xlim_r = len(desafio_06.columns) - 1\n",
        "# valor maximo entre todos os valores de todos os meses\n",
        "ylim_lower = desafio_06.min()[6:].min()*0.8\n",
        "ylim_upper = desafio_06.max()[6:].max()*1.11\n",
        "plt.xlim(xlim_l, xlim_r)\n",
        "plt.ylim(ylim_lower, ylim_upper)\n",
        "plt.legend(loc='upper left', ncol=2)"
      ],
      "execution_count": null,
      "outputs": []
    },
    {
      "cell_type": "markdown",
      "metadata": {
        "id": "kQmIXrJ1L3cf"
      },
      "source": [
        "##Aula 4"
      ]
    },
    {
      "cell_type": "code",
      "metadata": {
        "id": "PmOA6aty1ez4"
      },
      "source": [
        "ordenado_por_total = ordenado_por_total / 1000000\n",
        "ordenado_por_total.head(5).T.plot(figsize=(10,6))"
      ],
      "execution_count": null,
      "outputs": []
    },
    {
      "cell_type": "code",
      "metadata": {
        "id": "O6fwQNvK0iBf"
      },
      "source": [
        "meses_filtrados = ordenado_por_total.columns[47:150]\n",
        "ordenado_por_total[meses_filtrados].head(3).T.plot(figsize=(10,6))"
      ],
      "execution_count": null,
      "outputs": []
    },
    {
      "cell_type": "code",
      "metadata": {
        "id": "zA4Csoy52mXk"
      },
      "source": [
        "ordenado_por_total[meses_filtrados].head(3).T.plot(figsize=(10,6))\n",
        "plt.ylim(0, 350)"
      ],
      "execution_count": null,
      "outputs": []
    },
    {
      "cell_type": "code",
      "metadata": {
        "id": "rESypOfT3A3P"
      },
      "source": [
        "ordenado_por_total[meses_filtrados].head(3).T.plot(figsize=(10,6))\n",
        "plt.ylim(100, 350)"
      ],
      "execution_count": null,
      "outputs": []
    },
    {
      "cell_type": "code",
      "metadata": {
        "id": "U3i3R8rm3kYl"
      },
      "source": [
        "ordenado_por_total[ordenado_por_total.columns[-12:]].head(3).T.plot(figsize=(10,6))\n",
        "plt.ylim(0, 350)"
      ],
      "execution_count": null,
      "outputs": []
    },
    {
      "cell_type": "code",
      "metadata": {
        "id": "IFf5FeS24dO1"
      },
      "source": [
        "ordenado_por_total[ordenado_por_total.columns[-24:]].head(3).T.plot(figsize=(10,6))\n",
        "plt.ylim(0, 350)"
      ],
      "execution_count": null,
      "outputs": []
    },
    {
      "cell_type": "code",
      "metadata": {
        "id": "gs8_RPuq4hhX"
      },
      "source": [
        "ordenado_por_total[ordenado_por_total.columns[-36:]].head(3).T.plot(figsize=(10,6))\n",
        "plt.ylim(0, 350)"
      ],
      "execution_count": null,
      "outputs": []
    },
    {
      "cell_type": "code",
      "metadata": {
        "id": "GFyySl2k4jd9"
      },
      "source": [
        "ordenado_por_total[ordenado_por_total.columns[-60:]].head(3).T.plot(figsize=(10,6))\n",
        "plt.ylim(0, 350)"
      ],
      "execution_count": null,
      "outputs": []
    },
    {
      "cell_type": "code",
      "metadata": {
        "id": "x9SYG4uE4meG"
      },
      "source": [
        "ordenado_por_total.head(5).T.plot(figsize=(10,6))"
      ],
      "execution_count": null,
      "outputs": []
    },
    {
      "cell_type": "code",
      "metadata": {
        "id": "Funz3HdJ5GZl"
      },
      "source": [
        "ordenado_por_total.head(5).T.plot(figsize=(6,6))"
      ],
      "execution_count": null,
      "outputs": []
    },
    {
      "cell_type": "code",
      "metadata": {
        "id": "r_eHRMhL5IXv"
      },
      "source": [
        "ordenado_por_total.head(5).T.plot(figsize=(20,6))"
      ],
      "execution_count": null,
      "outputs": []
    },
    {
      "cell_type": "markdown",
      "metadata": {
        "id": "cN5kworVmBmk"
      },
      "source": [
        "###Desafios"
      ]
    },
    {
      "cell_type": "markdown",
      "metadata": {
        "id": "bGHensTWmEVN"
      },
      "source": [
        "**Desafio: Refaça as manipulações feitas em aulas e gaste um tempo analisando os dados e entendendo os efeitos das manipulações**"
      ]
    },
    {
      "cell_type": "markdown",
      "metadata": {
        "id": "lZ9qKn1vmG8Y"
      },
      "source": [
        "**Desafio: Reflita sobre os problemas na manipulação de dados e discuta esse assunto no Discord.**"
      ]
    },
    {
      "cell_type": "markdown",
      "metadata": {
        "id": "usrgTP59vnqZ"
      },
      "source": [
        "Ambas os desafios tratam do mesmo assunto então decidi por responde-los ao mesmo tempo"
      ]
    },
    {
      "cell_type": "markdown",
      "metadata": {
        "id": "Ogw0aPCav4Ju"
      },
      "source": [
        "Após as conversas e discurssões com os colegas posso concluir que não existem análises de dados sem manipulação, os dados por si só não contam nenhuma história, o trabalho de um cientista de dados seria então traduzir esses dados e então tirar um significado para eles, mas que até então não passava de um conjunto frio de números."
      ]
    },
    {
      "cell_type": "markdown",
      "metadata": {
        "id": "_KCbeJs7wb_N"
      },
      "source": [
        "Qual o sentido de falar em mudar o tamanho de um gráfico e mudar sua inclinação para mudar a impressão de velocidade de crescimento se o próprio ato de plotar é contar uma história? Existe uma gráfico que é a verdade sobre os dados?"
      ]
    },
    {
      "cell_type": "markdown",
      "metadata": {
        "id": "IvzwpTLIwqD-"
      },
      "source": [
        "Com essa reflexão estou tentando dizer que o cientista de dados é, por sua natureza, um manipulador. A diferença entre um bom profissional na área de Data Science e um charlatão é que este ao menos sabe ser imparcial em sua manipulação, e assim escolher os gráficos, dashboards e visualizações que evidenciem o que chega mais próximo da realidade, com a honestidade de que esse apego ao real seja sua unica e exclusiva intenção."
      ]
    },
    {
      "cell_type": "markdown",
      "metadata": {
        "id": "foF2E4_SmJZm"
      },
      "source": [
        "##Aula 5"
      ]
    },
    {
      "cell_type": "code",
      "metadata": {
        "id": "4CDEFSyz5Pm1"
      },
      "source": [
        "mes_mais_recente = ordenado_por_total.columns[-1]\n",
        "mes_mais_recente"
      ],
      "execution_count": null,
      "outputs": []
    },
    {
      "cell_type": "code",
      "metadata": {
        "id": "WLb58UgB67To"
      },
      "source": [
        "gastos_do_mais_recente = ordenado_por_total[mes_mais_recente]\n",
        "gastos_do_mais_recente.head()"
      ],
      "execution_count": null,
      "outputs": []
    },
    {
      "cell_type": "code",
      "metadata": {
        "id": "G5KInoh477DQ"
      },
      "source": [
        "gastos_do_mais_recente.plot()"
      ],
      "execution_count": null,
      "outputs": []
    },
    {
      "cell_type": "code",
      "metadata": {
        "id": "F_P2IwR-8A3k"
      },
      "source": [
        "gastos_do_mais_recente.plot(kind='pie')"
      ],
      "execution_count": null,
      "outputs": []
    },
    {
      "cell_type": "markdown",
      "metadata": {
        "id": "EgoOAazU8XTe"
      },
      "source": [
        "Horrores da pizza atual:\n",
        "\n",
        "- legenda está horrível\n",
        "- número de fatias inacreditável\n",
        "\n",
        "Já estamos com uma vantagem:\n",
        "- o gráfico veio ordenado"
      ]
    },
    {
      "cell_type": "code",
      "metadata": {
        "id": "JcOq3ZRl8LB8"
      },
      "source": [
        "gastos_do_mais_recente.sample(frac=1).plot(kind='pie')"
      ],
      "execution_count": null,
      "outputs": []
    },
    {
      "cell_type": "markdown",
      "metadata": {
        "id": "8_YTLtv99DEW"
      },
      "source": [
        "Horrores da pizza atual:\n",
        "\n",
        "- legenda está horrível\n",
        "- número de fatias inacreditável\n",
        "- não dá para saber a ordem\n",
        "- cores repetidas\n",
        "- muito ruim para definir ordem\n",
        "- péssimo para COMPARAR"
      ]
    },
    {
      "cell_type": "code",
      "metadata": {
        "id": "YeElLSN28348"
      },
      "source": [
        "# visualização simples pra valor absoluto\n",
        "\n",
        "gastos_do_mais_recente"
      ],
      "execution_count": null,
      "outputs": []
    },
    {
      "cell_type": "code",
      "metadata": {
        "id": "2Ck9JmW99f1_"
      },
      "source": [
        "gastos_do_mais_recente / gastos_do_mais_recente.loc[\"33 Rio de Janeiro\"]"
      ],
      "execution_count": null,
      "outputs": []
    },
    {
      "cell_type": "code",
      "metadata": {
        "id": "iVOciEgR-QHT"
      },
      "source": [
        "(gastos_do_mais_recente / gastos_do_mais_recente.loc[\"33 Rio de Janeiro\"]).head(5)"
      ],
      "execution_count": null,
      "outputs": []
    },
    {
      "cell_type": "code",
      "metadata": {
        "id": "mzYXlb4c-EFG"
      },
      "source": [
        "gastos_do_mais_recente.plot(kind='bar')"
      ],
      "execution_count": null,
      "outputs": []
    },
    {
      "cell_type": "code",
      "metadata": {
        "id": "5AeCbmly-7if"
      },
      "source": [
        "gastos_do_mais_recente = gastos_do_mais_recente.sort_values(ascending=False)\n",
        "gastos_do_mais_recente.plot(kind='bar')"
      ],
      "execution_count": null,
      "outputs": []
    },
    {
      "cell_type": "markdown",
      "metadata": {
        "id": "PuXEXLMCrblD"
      },
      "source": [
        "###Desafios"
      ]
    },
    {
      "cell_type": "markdown",
      "metadata": {
        "id": "K9FkDdPd-QeG"
      },
      "source": [
        "**Desafio: Criar a tabela de comparação com o seu estado (ou estado de preferência)**\n",
        "\n"
      ]
    },
    {
      "cell_type": "code",
      "metadata": {
        "id": "LZf8Q_bMsDeX"
      },
      "source": [
        "gastos_do_mais_recente / gastos_do_mais_recente.loc[\"35 São Paulo\"]"
      ],
      "execution_count": null,
      "outputs": []
    },
    {
      "cell_type": "markdown",
      "metadata": {
        "id": "2_-lLhRy-sjc"
      },
      "source": [
        "**Desafio: documentação do matplotlib e pandas para colocar grid no gráfico**"
      ]
    },
    {
      "cell_type": "code",
      "metadata": {
        "id": "KrqHwz0sq-gd"
      },
      "source": [
        "# https://pandas.pydata.org/docs/reference/api/pandas.DataFrame.plot.html\n",
        "gastos_do_mais_recente = gastos_do_mais_recente.sort_values(ascending=False)\n",
        "ax = gastos_do_mais_recente.plot(kind='bar')\n",
        "ax.grid(axis='y', ls=':')\n",
        "\n",
        "plt.show()"
      ],
      "execution_count": null,
      "outputs": []
    },
    {
      "cell_type": "markdown",
      "metadata": {
        "id": "oDYSQQZQ5_WZ"
      },
      "source": [
        "**Desafio: Fazer um gráfico e uma tabela do gasto dos outros estados em função do seu estado, ou qualquer outro de interesse.**"
      ]
    },
    {
      "cell_type": "code",
      "metadata": {
        "id": "_3VJT7jX47jY"
      },
      "source": [
        "gasto_proporcional = gastos_do_mais_recente / gastos_do_mais_recente.loc[\"35 São Paulo\"]\n",
        "gasto_proporcional = gasto_proporcional.sort_values(ascending=False)\n",
        "ax = gasto_proporcional.plot(kind='bar',figsize=(15,6))\n",
        "ax.grid(axis='y', ls=':')\n",
        "ax.set_title('Proporção de gastos em relação à São Paulo')\n",
        "\n",
        "plt.show()"
      ],
      "execution_count": null,
      "outputs": []
    },
    {
      "cell_type": "markdown",
      "metadata": {
        "id": "0XLv4tU1AD9r"
      },
      "source": [
        "**Desafio: Fazer o cálculo proporcional a população do seu estado e mais um a sua escolha.**"
      ]
    },
    {
      "cell_type": "markdown",
      "metadata": {
        "id": "SYCUxdw37TKw"
      },
      "source": [
        "[Tabnet](http://www2.datasus.gov.br/DATASUS/index.php?area=0206&id=6942)"
      ]
    },
    {
      "cell_type": "code",
      "metadata": {
        "id": "bAcZ9jXT6TbB"
      },
      "source": [
        "dados_pol = pd.read_csv(\"dados/A221518189_28_143_208.csv\", encoding=\"ISO-8859-1\", skiprows = 3, sep=\";\", \n",
        "                    skipfooter=12, thousands=\".\", decimal=\",\", engine='python')\n",
        "dados_pol"
      ],
      "execution_count": null,
      "outputs": []
    },
    {
      "cell_type": "code",
      "metadata": {
        "id": "WXme-GJI9HmP"
      },
      "source": [
        "pol = dados_pol.copy()\n",
        "pol = pol.set_index('Unidade da Federação')\n",
        "pol"
      ],
      "execution_count": null,
      "outputs": []
    },
    {
      "cell_type": "code",
      "metadata": {
        "id": "iDLAMUr-9Pt3"
      },
      "source": [
        "ax = pol.sort_values('2019',ascending=False).T.plot(figsize=(10,6), cmap=plt.get_cmap('plasma_r'))\n",
        "ax.legend(title=\"Legenda\", loc='center left', ncol=2, bbox_to_anchor=(1.0, 0.5))\n",
        "ax.yaxis.set_major_formatter(ticker.StrMethodFormatter(\"{x:,.0f}\"))\n",
        "\n",
        "plt.show()"
      ],
      "execution_count": null,
      "outputs": []
    },
    {
      "cell_type": "code",
      "metadata": {
        "id": "Gjaj1jqr_nOd"
      },
      "source": [
        "pol_gasto = usaveis.copy()\n",
        "pol_gasto = pol_gasto.loc[:,\"2008/Mar\":\"2019/Dez\"]\n",
        "anos = pol.columns\n",
        "\n",
        "for coluna in pol_gasto.columns:\n",
        "  for ano in anos:\n",
        "    if coluna.startswith(ano):\n",
        "      pol_gasto[coluna] = pol_gasto[coluna]/pol[ano]\n",
        "pol_gasto.head()"
      ],
      "execution_count": null,
      "outputs": []
    },
    {
      "cell_type": "code",
      "metadata": {
        "id": "oHFp-t38C9Hd"
      },
      "source": [
        "ax = pol_gasto.sort_values('2019/Dez',ascending=False).T.plot(figsize=(15,8), cmap=plt.get_cmap('tab20b'))\n",
        "ax.set_title( \"Valor de gastos de saude por Estado\", fontsize=20)\n",
        "ax.yaxis.set_major_formatter(ticker.StrMethodFormatter(\"{x:,.2f}\"))\n",
        "ax.set_ylabel(\"Valor por Habitantes\", fontsize=14)\n",
        "ax.set_ylabel(\"Período Ano/Mês\", fontsize=14)\n",
        "ax.legend(loc='center left', bbox_to_anchor=(1.0, 0.5), ncol=2, title='Estado')\n",
        "ax.grid(axis=\"y\", ls=':')\n",
        "\n",
        "plt.show()"
      ],
      "execution_count": null,
      "outputs": []
    },
    {
      "cell_type": "markdown",
      "metadata": {
        "id": "qhoQTdED4aqB"
      },
      "source": [
        "**Desafio: Faça uma análise dos dados analisados, levante hipóteses e compartilhe com a gente no Discord.**"
      ]
    },
    {
      "cell_type": "markdown",
      "metadata": {
        "id": "9Dvv8VMAE8dS"
      },
      "source": [
        "Resposta subjetiva efetuada no Discord do Bootcamp"
      ]
    },
    {
      "cell_type": "markdown",
      "metadata": {
        "id": "-IaaT8H5AQSl"
      },
      "source": [
        "**Desafio: Reproduza as análises feitas em aulas, refletindo e levantando hipóteses.**"
      ]
    },
    {
      "cell_type": "markdown",
      "metadata": {
        "id": "pFS2UYrGFBfL"
      },
      "source": [
        "Resposta subjetiva efetuada no Discord do Bootcamp"
      ]
    },
    {
      "cell_type": "markdown",
      "metadata": {
        "id": "Fj-X5Dyfr1Ra"
      },
      "source": [
        "##Super desafio"
      ]
    },
    {
      "cell_type": "markdown",
      "metadata": {
        "id": "zJf2R_CIBHQB"
      },
      "source": [
        "**Escolha outro valor fora o valor aprovado no TABNET e explore estes dados.**"
      ]
    },
    {
      "cell_type": "markdown",
      "metadata": {
        "id": "8aU_fgLOSvld"
      },
      "source": [
        "A vacinação de covid-19 tem algum efeito na diminuiçção do contágio da doença? O número de casos cair quando a vacinação aumenta diz algo sobre alguma relação causal? Intuitivamente somos inclinados a dizer que sim, afinal, uma pessoa imunizada não consegue transmitir covid da mesma forma que uma pessoa não vacinada, mas na prática os dados confirmam isso?"
      ]
    },
    {
      "cell_type": "markdown",
      "metadata": {
        "id": "wi2pDWWS9fpa"
      },
      "source": [
        "Esse é um estudo que, devido à pandemia de covid-19, já foi feito e reproduzido várias vezes e os resultados circulam avidamente na internet através de portais de notícias. Considerando o foco que está sendo dado ao assunto, decidi por procurar por um conjunto de dados sobre novos casos de covid e vacinação de alguns países."
      ]
    },
    {
      "cell_type": "markdown",
      "metadata": {
        "id": "BnSsQER-M8gq"
      },
      "source": [
        "Vou recorrer aos dados do [Our World in Data](https://ourworldindata.org/covid-vaccinations), pois me parece um conjunto de dados bastante robusto e além disso são os mesmos dados análisados pelo google na hora de montar seus gráficos."
      ]
    },
    {
      "cell_type": "code",
      "metadata": {
        "id": "tTafCCtOS6Ew"
      },
      "source": [
        "dados_covid = pd.read_csv(\"dados/owid-covid-data.csv\",\n",
        "                          sep=\",\", decimal=\".\", engine='python')\n",
        "dados_covid"
      ],
      "execution_count": null,
      "outputs": []
    },
    {
      "cell_type": "markdown",
      "metadata": {
        "id": "0ZCQnMUV-hjP"
      },
      "source": [
        "Para esse estudo eu gostaria de analisar:\n",
        " \n",
        "*   Israel, pois vacinou grande parte da sua população rapidamente e virou \n",
        "referência para essas notícias sobre vacinação.\n",
        "*   Reino Unido, pois notícias também foram veiculadas sobre a reabertura de shows e outros serviços não essenciais devido ao controle dos casos de covid do país.\n",
        "*   Brasil, pois é o país no qual estou inserido."
      ]
    },
    {
      "cell_type": "markdown",
      "metadata": {
        "id": "HOZBqalp_Dod"
      },
      "source": [
        "No entanto optei apenas por Israel e Reino Unido, pois não consegui informações mais detalhadas sobre os estados brasileiros e assim devido à sua extensão e população, o Brasil acaba sendo pouco homogêneo."
      ]
    },
    {
      "cell_type": "markdown",
      "metadata": {
        "id": "HUf-9uC9_n_p"
      },
      "source": [
        "Começo então por retirar apenas as informações que preciso do conjunto de dados obtidos, separando o caso Israel e o caso Reino Unido"
      ]
    },
    {
      "cell_type": "code",
      "metadata": {
        "id": "11Rp4ParaXYO"
      },
      "source": [
        "covid = dados_covid.copy()\n",
        "covid = covid.set_index('location')\n",
        "covid = covid.T\n",
        "covid"
      ],
      "execution_count": null,
      "outputs": []
    },
    {
      "cell_type": "code",
      "metadata": {
        "id": "T4Ag70Lle6sL"
      },
      "source": [
        "covid_is = covid['Israel'].T.set_index('date').T\n",
        "info = ['new_cases_smoothed','people_fully_vaccinated','population']\n",
        "covid_is = covid_is.T.loc[:,info].T\n",
        "covid_is"
      ],
      "execution_count": null,
      "outputs": []
    },
    {
      "cell_type": "code",
      "metadata": {
        "id": "hkhgkxIje_OQ"
      },
      "source": [
        "covid_uk = covid['United Kingdom'].T.set_index('date').T\n",
        "covid_uk = covid_uk.T.loc[:,info].T\n",
        "covid_uk"
      ],
      "execution_count": null,
      "outputs": []
    },
    {
      "cell_type": "markdown",
      "metadata": {
        "id": "r2OiWycR_zcg"
      },
      "source": [
        "Também são retirados os períodos em que ainda não havia acontecido nenhuma vacinação por falta de vacinas autorizadas já que esses períodos são irrelevantes para o estudo."
      ]
    },
    {
      "cell_type": "code",
      "metadata": {
        "id": "BSU3PQW1h4ht"
      },
      "source": [
        "covid_usavel_is = covid_is.T.query('people_fully_vaccinated > 0').T\n",
        "covid_usavel_is"
      ],
      "execution_count": null,
      "outputs": []
    },
    {
      "cell_type": "code",
      "metadata": {
        "id": "yBIhNOZY32bn"
      },
      "source": [
        "covid_usavel_uk = covid_uk.T.query('people_fully_vaccinated > 0').T\n",
        "covid_usavel_uk"
      ],
      "execution_count": null,
      "outputs": []
    },
    {
      "cell_type": "code",
      "metadata": {
        "id": "qQS-vagEvG0e"
      },
      "source": [
        "pol_is = (covid_usavel_is.loc['people_fully_vaccinated'] / covid_usavel_is.loc['population']*100).tolist()\n",
        "covid_usavel_is = covid_usavel_is.T\n",
        "covid_usavel_is['percentage_vaccinated'] = pol_is\n",
        "covid_usavel_is = covid_usavel_is.T\n",
        "covid_usavel_is"
      ],
      "execution_count": null,
      "outputs": []
    },
    {
      "cell_type": "code",
      "metadata": {
        "id": "qWpG0N6w39U0"
      },
      "source": [
        "pol_uk = (covid_usavel_uk.loc['people_fully_vaccinated'] / covid_usavel_uk.loc['population']*100).tolist()\n",
        "covid_usavel_uk = covid_usavel_uk.T\n",
        "covid_usavel_uk['percentage_vaccinated'] = pol_uk\n",
        "covid_usavel_uk = covid_usavel_uk.T\n",
        "covid_usavel_uk"
      ],
      "execution_count": null,
      "outputs": []
    },
    {
      "cell_type": "markdown",
      "metadata": {
        "id": "UXFok_WIAPxB"
      },
      "source": [
        "Com os dados em mãos podemos então plotar ambas as relações de vacinados e novos casos:"
      ]
    },
    {
      "cell_type": "code",
      "metadata": {
        "id": "WGOCqVTEsD8z"
      },
      "source": [
        "fig, ax = plt.subplots(figsize = (20, 10))\n",
        "\n",
        "plt.title('Vacinados e Novos casos semanais de Covid-19 em Israel a partir de Janeiro/2021', fontdict = {'fontsize': 20, \"fontweight\":\"bold\"})\n",
        "\n",
        "ax = covid_usavel_is.loc['percentage_vaccinated'].T.plot(color ='teal')\n",
        "ax.set_xlabel('Período Ano/Mês/Dia', fontsize=16)\n",
        "ax.set_ylabel('Porcentagem em relação ao total da população', fontdict = {'fontsize': 16})\n",
        "ylim_u = covid_usavel_is.loc['percentage_vaccinated'].max()*1.1\n",
        "ax.set_ylim(0,ylim_u)\n",
        "\n",
        "ax2 = ax.twinx()\n",
        "ax2 = covid_usavel_is.loc['new_cases_smoothed'].T[6:].plot(color = 'r')\n",
        "ax2.set_ylabel('Número de casos', fontdict = {'fontsize': 16})\n",
        "ylim_u2 = covid_usavel_is.loc['new_cases_smoothed'].max()*1.1\n",
        "ax2.set_ylim(0,ylim_u2)\n",
        "\n",
        "ax.yaxis.set_major_formatter(ticker.StrMethodFormatter('{x:,.0f}%'))\n",
        "\n",
        "custom_lines = [Line2D([0], [0], color = 'teal', lw = 2), Line2D([0], [0], color = 'r', lw = 2)]\n",
        "ax.legend(custom_lines, ['Porcentagem da população vacinada completamente', 'Novos casos de Covid-19 registrados semanalmente'])\n",
        "\n",
        "plt.grid(color = 'grey', linestyle = '-', linewidth = 0.3, axis = 'y')\n",
        "\n",
        "plt.show()"
      ],
      "execution_count": null,
      "outputs": []
    },
    {
      "cell_type": "code",
      "metadata": {
        "id": "rMFqmTsk4sA0"
      },
      "source": [
        "fig, ax = plt.subplots(figsize = (20, 10))\n",
        "\n",
        "plt.title('Vacinados e Novos casos semanais de Covid-19 no Reino Unido a partir de Janeiro/2021', fontdict = {'fontsize': 20, \"fontweight\":\"bold\"})\n",
        "\n",
        "ax = covid_usavel_uk.loc['percentage_vaccinated'].T.plot(color ='g')\n",
        "ax.set_xlabel('Período Ano/Mês/Dia', fontsize=16)\n",
        "ax.set_ylabel('Porcentagem em relação ao total da população', fontdict = {'fontsize': 16})\n",
        "ylim_u = covid_usavel_uk.loc['percentage_vaccinated'].max()*1.1\n",
        "ax.set_ylim(0,ylim_u)\n",
        "\n",
        "ax2 = ax.twinx()\n",
        "ax2 = covid_usavel_uk.loc['new_cases_smoothed'].T[6:].plot(color = 'r')\n",
        "ax2.set_ylabel('Número de casos', fontdict = {'fontsize': 16})\n",
        "ylim_u2 = covid_usavel_uk.loc['new_cases_smoothed'].max()*1.1\n",
        "ax2.set_ylim(0,ylim_u2)\n",
        "\n",
        "ax.yaxis.set_major_formatter(ticker.StrMethodFormatter('{x:,.0f}%'))\n",
        "\n",
        "custom_lines = [Line2D([0], [0], color = 'g', lw = 2), Line2D([0], [0], color = 'r', lw = 2)]\n",
        "ax.legend(custom_lines, ['Porcentagem da população vacinada completamente', 'Novos casos de Covid-19 registrados semanalmente'])\n",
        "\n",
        "plt.grid(color = 'grey', linestyle = '-', linewidth = 0.3, axis = 'y')\n",
        "\n",
        "plt.show()"
      ],
      "execution_count": null,
      "outputs": []
    },
    {
      "cell_type": "markdown",
      "metadata": {
        "id": "JDSXr3t4AXtF"
      },
      "source": [
        "Ambos os gráficos parecem apresentar uma tendência entre o aumento da porcentagem da população vacinada e a diminuião dos casos de covid."
      ]
    },
    {
      "cell_type": "markdown",
      "metadata": {
        "id": "oLYGyAB_BDbF"
      },
      "source": [
        "Além de visual, essa relação ocorre matemáticamente?"
      ]
    },
    {
      "cell_type": "code",
      "metadata": {
        "id": "bxNo_w1bBPIF"
      },
      "source": [
        "vac_is = covid_usavel_is.loc['percentage_vaccinated'].astype(int).values\n",
        "vac_is"
      ],
      "execution_count": null,
      "outputs": []
    },
    {
      "cell_type": "code",
      "metadata": {
        "id": "n2voZYqCB1La"
      },
      "source": [
        "casos_is = covid_usavel_is.loc['new_cases_smoothed'].astype(int).values\n",
        "casos_is"
      ],
      "execution_count": null,
      "outputs": []
    },
    {
      "cell_type": "code",
      "metadata": {
        "id": "mDZnMzSeD3Bg"
      },
      "source": [
        "vac_uk = covid_usavel_uk.loc['percentage_vaccinated'].astype(int).values\n",
        "vac_uk"
      ],
      "execution_count": null,
      "outputs": []
    },
    {
      "cell_type": "code",
      "metadata": {
        "id": "qvF8BvgOD5qj"
      },
      "source": [
        "casos_uk = covid_usavel_uk.loc['new_cases_smoothed'].astype(int).values\n",
        "casos_uk"
      ],
      "execution_count": null,
      "outputs": []
    },
    {
      "cell_type": "code",
      "metadata": {
        "id": "dM3hOiepCOVM"
      },
      "source": [
        "np.corrcoef(vac_is,casos_is)[0,1]"
      ],
      "execution_count": null,
      "outputs": []
    },
    {
      "cell_type": "code",
      "metadata": {
        "id": "1n7lG3hKD9X7"
      },
      "source": [
        "np.corrcoef(vac_uk,casos_uk)[0,1]"
      ],
      "execution_count": null,
      "outputs": []
    },
    {
      "cell_type": "markdown",
      "metadata": {
        "id": "1WaJjXINEMD8"
      },
      "source": [
        "Como podemos ver desses valores, ambos tem uma forte correlação e uma correlação altíssima no caso de Israel."
      ]
    },
    {
      "cell_type": "markdown",
      "metadata": {
        "id": "nCA4MpSqEUuN"
      },
      "source": [
        "Podemos concluir então que os casos de covid e seu controle estão unicamente atralados à vacinação? Não, além do mais existem outras formas de controle como é o caso do próprio Reino Unido que controlou seus casos com lockdown antes mesmo da vacinação e por isso a queda no gráfico antes do começo das vacinas."
      ]
    },
    {
      "cell_type": "markdown",
      "metadata": {
        "id": "450Y5eAOEoqY"
      },
      "source": [
        "Porém, podemos ainda sim ver que a vacinação tem grande impacto na ocorrência de novos casos e assim comprovamos o que os grandes veículos de notícias circulam #VacinaSim."
      ]
    }
  ]
}